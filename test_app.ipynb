{
 "cells": [
  {
   "cell_type": "code",
   "execution_count": 16,
   "metadata": {},
   "outputs": [
    {
     "name": "stdout",
     "output_type": "stream",
     "text": [
      "3C:AD:70:C9:C4:2E: Apple, Inc. (b'\\t\\x06\\x03f\\xc0\\xa8V\\x88')\n",
      "03:93:75:AE:3C:C8: Apple, Inc. (b'\\t\\x06\\x03\\x07\\xc0\\xa8\\x010')\n",
      "10:2B:41:48:BD:B1: Samsung Electronics Co. Ltd. (b'B\\x04\\x01\\x80f\\x10+AH\\xbd\\xb1\\x12+AH\\xbd\\xb0\\x01\\x00\\x00\\x00\\x00\\x00\\x00')\n",
      "50:FB:19:87:D1:51: SC02\n",
      "78:6D:49:65:C7:48: Unknown\n",
      "08:66:98:A0:A5:66: Apple, Inc. (b'\\x0f\\x08\\xc0\\nT\\xdc\\x92\\x00D\\x0b\\x10\\x02\\x01\\x04')\n",
      "04:7B:35:6A:28:7B: Microsoft (b'\\x01\\x10 \\x026+k\\x1e\\xe3F\\xb9\\x7f7\\xea\\x11[=\\xb4\\xab\\x01\\x15\\xd7\\xcf\\x15\\xe7\\xeb\\xfc')\n",
      "4E:56:8A:0A:A1:17: Apple, Inc. (b'\\x10\\x02\\x03\\x00')\n",
      "5D:5B:98:A3:51:82: Unknown\n"
     ]
    }
   ],
   "source": [
    "import asyncio\n",
    "from bleak import BleakScanner\n",
    "\n",
    "devices = await BleakScanner.discover()\n",
    "for d in devices:\n",
    "    print(d)"
   ]
  },
  {
   "cell_type": "code",
   "execution_count": 4,
   "metadata": {},
   "outputs": [],
   "source": [
    "import asyncio\n",
    "from bleak import BleakClient\n",
    "\n",
    "address = \"50:FB:19:87:D1:51\"\n",
    "MODEL_NBR_UUID = \"00001101-0000-1000-8000-00805F9B34FB\"\n",
    "\n",
    "async def run(address):\n",
    "    async with BleakClient(address) as client:\n",
    "        model_number = await client.read_gatt_char(MODEL_NBR_UUID)\n",
    "        print(\"Model Number: {0}\".format(\"\".join(map(chr, model_number))))\n"
   ]
  },
  {
   "cell_type": "code",
   "execution_count": 11,
   "metadata": {},
   "outputs": [],
   "source": [
    "import asyncio\n",
    "from bleak import BleakScanner\n",
    "\n",
    "def detection_callback(device, advertisement_data):\n",
    "    if(device.address == '50:FB:19:87:D1:51'):\n",
    "        #print(device.address, \"RSSI:\", device.rssi, advertisement_data)\n",
    "        #print(advertisement_data.manufacturer_data[4298])\n",
    "        hex_str = '0x'+advertisement_data.manufacturer_data[4298][4:6].hex()\n",
    "        hex_int = int(hex_str, 16)\n",
    "        print(hex_int/100)"
   ]
  },
  {
   "cell_type": "code",
   "execution_count": 12,
   "metadata": {},
   "outputs": [
    {
     "name": "stdout",
     "output_type": "stream",
     "text": [
      "0.0\n",
      "0.0\n",
      "0.0\n",
      "56.46\n",
      "60.52\n",
      "60.57\n",
      "60.6\n",
      "60.6\n",
      "0.0\n",
      "0.0\n",
      "0.0\n",
      "0.0\n",
      "0.0\n",
      "0.0\n",
      "0.0\n",
      "0.0\n",
      "0.0\n",
      "0.0\n",
      "0.0\n",
      "0.0\n"
     ]
    }
   ],
   "source": [
    "scanner = BleakScanner()\n",
    "scanner.register_detection_callback(detection_callback)\n",
    "await scanner.start()\n",
    "await asyncio.sleep(20.0)\n",
    "await scanner.stop()"
   ]
  },
  {
   "cell_type": "code",
   "execution_count": null,
   "metadata": {},
   "outputs": [],
   "source": []
  }
 ],
 "metadata": {
  "kernelspec": {
   "display_name": "py38",
   "language": "python",
   "name": "py38"
  },
  "language_info": {
   "codemirror_mode": {
    "name": "ipython",
    "version": 3
   },
   "file_extension": ".py",
   "mimetype": "text/x-python",
   "name": "python",
   "nbconvert_exporter": "python",
   "pygments_lexer": "ipython3",
   "version": "3.8.10"
  }
 },
 "nbformat": 4,
 "nbformat_minor": 5
}
